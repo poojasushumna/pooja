{
 "cells": [
  {
   "cell_type": "code",
   "execution_count": 2,
   "metadata": {},
   "outputs": [
    {
     "name": "stdout",
     "output_type": "stream",
     "text": [
      "select operation\n",
      "1.add\n",
      "2.subtractor\n",
      "3.multiply\n",
      "4.divide\n",
      "Select operations form 1, 2, 3, 4 :1\n",
      "Enter first number: 5\n",
      "Enter second number: 8\n",
      "13\n"
     ]
    }
   ],
   "source": [
    "#program for simple calculations\n",
    "print(\"select operation\")\n",
    "print(\"1.add\")\n",
    "print(\"2.subtractor\")\n",
    "print(\"3.multiply\")\n",
    "print(\"4.divide\")\n",
    "  \n",
    "select = int(input(\"Select operations form 1, 2, 3, 4 :\")) \n",
    "  \n",
    "a = int(input(\"Enter first number: \")) \n",
    "b = int(input(\"Enter second number: \")) \n",
    "  \n",
    "if select == 1: \n",
    "    print(a+b) \n",
    "  \n",
    "elif select == 2: \n",
    "    print(a-b) \n",
    "  \n",
    "elif select == 3: \n",
    "    print(a*b) \n",
    "  \n",
    "elif select == 4: \n",
    "    print(a/b) \n",
    "else: \n",
    "    print(\"Invalid input\") "
   ]
  },
  {
   "cell_type": "code",
   "execution_count": 3,
   "metadata": {},
   "outputs": [
    {
     "name": "stdout",
     "output_type": "stream",
     "text": [
      "The principal is 6\n",
      "The time period is 6\n",
      "The rate of interest is 4\n",
      "The Simple Interest is 1.44\n"
     ]
    },
    {
     "data": {
      "text/plain": [
       "1.44"
      ]
     },
     "execution_count": 3,
     "metadata": {},
     "output_type": "execute_result"
    }
   ],
   "source": [
    "# Python program to find simple interest \n",
    "\n",
    "  \n",
    "  \n",
    "def simple_interest(p,t,r): \n",
    "    print('The principal is', p) \n",
    "    print('The time period is', t) \n",
    "    print('The rate of interest is',r) \n",
    "      \n",
    "    si = (p * t * r)/100\n",
    "      \n",
    "    print('The Simple Interest is', si) \n",
    "    return si \n",
    "      \n",
    "# Driver code \n",
    "simple_interest(6, 6, 4) \n",
    " "
   ]
  },
  {
   "cell_type": "code",
   "execution_count": 4,
   "metadata": {},
   "outputs": [
    {
     "name": "stdout",
     "output_type": "stream",
     "text": [
      " Please Enter the radius of a circle: 5\n",
      " Area Of a Circle = 78.50\n",
      " Circumference Of a Circle = 31.40\n"
     ]
    }
   ],
   "source": [
    "#  Program to find Area Of Circle\n",
    "\n",
    "PI = 3.14\n",
    "radius = float(input(' Please Enter the radius of a circle: '))\n",
    "area = PI * radius * radius\n",
    "circumference = 2 * PI * radius\n",
    "\n",
    "print(\" Area Of a Circle = %.2f\" %area)\n",
    "print(\" Circumference Of a Circle = %.2f\" %circumference)"
   ]
  },
  {
   "cell_type": "code",
   "execution_count": 6,
   "metadata": {},
   "outputs": [
    {
     "name": "stdout",
     "output_type": "stream",
     "text": [
      "Enter first side: 4\n",
      "Enter second side: 4\n",
      "Enter third side: 4\n",
      "The area of the triangle is 6.93\n"
     ]
    }
   ],
   "source": [
    "#  Program to find the area of triangle\n",
    "\n",
    "a = float(input('Enter first side: '))\n",
    "b = float(input('Enter second side: '))\n",
    "c = float(input('Enter third side: '))\n",
    " \n",
    "\n",
    "s = (a + b + c) / 2\n",
    " \n",
    "\n",
    "area = (s*(s-a)*(s-b)*(s-c)) ** 0.5\n",
    "print('The area of the triangle is %0.2f' %area)\n",
    "\n"
   ]
  },
  {
   "cell_type": "code",
   "execution_count": 7,
   "metadata": {},
   "outputs": [
    {
     "name": "stdout",
     "output_type": "stream",
     "text": [
      "37.5 degree Celsius is equal to 99.5 degree Fahrenheit\n"
     ]
    }
   ],
   "source": [
    "#  Program to convert temperature in celsius to fahrenheit\n",
    "\n",
    "\n",
    "celsius = 37.5\n",
    "\n",
    "\n",
    "fahrenheit = (celsius * 1.8) + 32\n",
    "print('%0.1f degree Celsius is equal to %0.1f degree Fahrenheit' %(celsius,fahrenheit))"
   ]
  },
  {
   "cell_type": "code",
   "execution_count": 8,
   "metadata": {},
   "outputs": [
    {
     "name": "stdout",
     "output_type": "stream",
     "text": [
      "Input the  temperature you like to convert? 45f\n",
      "The temperature in Celsius is 7 degrees.\n"
     ]
    }
   ],
   "source": [
    "temp = input(\"Input the  temperature you like to convert? \")\n",
    "degree = int(temp[:-1])\n",
    "i_convention = temp[-1]\n",
    "\n",
    "if i_convention.upper() == \"C\":\n",
    "  result = int(round((9 * degree) / 5 + 32))\n",
    "  o_convention = \"Fahrenheit\"\n",
    "elif i_convention.upper() == \"F\":\n",
    "  result = int(round((degree - 32) * 5 / 9))\n",
    "  o_convention = \"Celsius\"\n",
    "else:\n",
    "  print(\"Input proper convention.\")\n",
    "  quit()\n",
    "print(\"The temperature in\", o_convention, \"is\", result, \"degrees.\")"
   ]
  },
  {
   "cell_type": "code",
   "execution_count": 9,
   "metadata": {},
   "outputs": [
    {
     "name": "stdout",
     "output_type": "stream",
     "text": [
      "Enter length of Rectangle: 6\n",
      "Enter breadth of Rectangle: 4\n",
      "\n",
      "Area of Rectangle = 24\n"
     ]
    }
   ],
   "source": [
    "# Program - Calculate Area of Rectangle\n",
    "\n",
    "\n",
    "leng = input(\"Enter length of Rectangle: \");\n",
    "brea = input(\"Enter breadth of Rectangle: \");\n",
    "\n",
    "length = int(leng);\n",
    "breadth = int(brea);\n",
    "    \n",
    "area = length*breadth;\n",
    "    \n",
    "print(\"\\nArea of Rectangle =\",area);"
   ]
  },
  {
   "cell_type": "code",
   "execution_count": 10,
   "metadata": {},
   "outputs": [
    {
     "name": "stdout",
     "output_type": "stream",
     "text": [
      "Enter side length of square: 4\n",
      "\n",
      "Perimeter of Square = 16\n"
     ]
    }
   ],
   "source": [
    "#  Program to Calculate Perimeter of Square\n",
    "\n",
    "side = input(\"Enter side length of square: \");\n",
    "\n",
    "slength = int(side);\n",
    "perimeter = 4*slength;\n",
    "\n",
    "print(\"\\nPerimeter of Square =\", perimeter);"
   ]
  },
  {
   "cell_type": "code",
   "execution_count": 11,
   "metadata": {},
   "outputs": [
    {
     "name": "stdout",
     "output_type": "stream",
     "text": [
      "Enter 'x' for exit.\n",
      "Enter radius of circle: 5\n",
      "\n",
      "Circumference of Circle = 31.400000000000002\n"
     ]
    }
   ],
   "source": [
    "# Program to Calculate Circumference of Circle\n",
    "\n",
    "print(\"Enter 'x' for exit.\");\n",
    "rad = input(\"Enter radius of circle: \");\n",
    "if rad == 'x':\n",
    "    exit();\n",
    "else:\n",
    "    radius = float(rad);\n",
    "    circumference = 2*3.14*radius;\n",
    "    print(\"\\nCircumference of Circle =\",circumference);\n"
   ]
  },
  {
   "cell_type": "code",
   "execution_count": 12,
   "metadata": {},
   "outputs": [
    {
     "name": "stdout",
     "output_type": "stream",
     "text": [
      "Enter value of x: 5\n",
      "Enter value of y: 10\n",
      "The value of x after swapping: 10\n",
      "The value of y after swapping: 5\n"
     ]
    }
   ],
   "source": [
    "#  program to swap two variables\n",
    "\n",
    "x = input('Enter value of x: ')\n",
    "y = input('Enter value of y: ')\n",
    "\n",
    "temp = x\n",
    "x = y\n",
    "y = temp\n",
    "\n",
    "print('The value of x after swapping: {}'.format(x))\n",
    "print('The value of y after swapping: {}'.format(y))\n"
   ]
  },
  {
   "cell_type": "code",
   "execution_count": null,
   "metadata": {},
   "outputs": [],
   "source": []
  }
 ],
 "metadata": {
  "kernelspec": {
   "display_name": "Python 3",
   "language": "python",
   "name": "python3"
  },
  "language_info": {
   "codemirror_mode": {
    "name": "ipython",
    "version": 3
   },
   "file_extension": ".py",
   "mimetype": "text/x-python",
   "name": "python",
   "nbconvert_exporter": "python",
   "pygments_lexer": "ipython3",
   "version": "3.8.3"
  }
 },
 "nbformat": 4,
 "nbformat_minor": 4
}
