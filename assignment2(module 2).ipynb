{
 "cells": [
  {
   "cell_type": "code",
   "execution_count": 13,
   "metadata": {},
   "outputs": [
    {
     "name": "stdout",
     "output_type": "stream",
     "text": [
      "enter the number1:2\n",
      "enter the number2:3\n",
      "enter the number3:4\n",
      "4\n"
     ]
    }
   ],
   "source": [
    "#1.Write a python prgm to find the max of three numbers.\n",
    "def maximum(a, b, c): \n",
    "    if (a >= b) and (a >= c): \n",
    "        largest = a \n",
    "    elif (b >= a) and (b >= c): \n",
    "        largest = b \n",
    "    else: \n",
    "        largest = c\n",
    "    \n",
    "        return largest   \n",
    "a = input(\"enter the number1:\")\n",
    "b = input(\"enter the number2:\")\n",
    "c = input(\"enter the number3:\")\n",
    "print(maximum(a, b, c))\n"
   ]
  },
  {
   "cell_type": "code",
   "execution_count": 14,
   "metadata": {},
   "outputs": [
    {
     "name": "stdout",
     "output_type": "stream",
     "text": [
      "enter the stringpooja\n",
      "The original string is:\n",
      "pooja\n",
      "The reversed string is:\n",
      "ajoop\n"
     ]
    }
   ],
   "source": [
    "#2.Write a python program to reverse a string.\n",
    "def reverse(s):\n",
    "    if len(s)==0:\n",
    "        return s\n",
    "    else:\n",
    "        return reverse(s[1:])+s[0]\n",
    "s= input('enter the string')\n",
    "print(\"The original string is:\")\n",
    "print(s)\n",
    "print(\"The reversed string is:\")\n",
    "print(reverse(s))\n",
    "\n"
   ]
  },
  {
   "cell_type": "code",
   "execution_count": 19,
   "metadata": {},
   "outputs": [
    {
     "name": "stdout",
     "output_type": "stream",
     "text": [
      "enter the number7\n",
      "7 is a prime number\n"
     ]
    }
   ],
   "source": [
    "#3.Write a python function to check whether the number is prime or not\n",
    "num = int(input('enter the number'))\n",
    "  \n",
    "if num > 1: \n",
    "       \n",
    "   for i in range(2, num): \n",
    "           \n",
    "       if (num % i) == 0: \n",
    "           print(num, \"is not a prime number\") \n",
    "           break\n",
    "   else: \n",
    "       print(num, \"is a prime number\") \n",
    "  \n",
    "else: \n",
    "   print(num, \"is not a prime number\") \n"
   ]
  },
  {
   "cell_type": "code",
   "execution_count": 22,
   "metadata": {},
   "outputs": [
    {
     "name": "stdout",
     "output_type": "stream",
     "text": [
      "enter the number:679\n",
      "the given number is not a palindrome\n",
      "this block is always excuted\n"
     ]
    }
   ],
   "source": [
    "#4.Use try,except,else and finally block to check whether the number is palindrome or not.\n",
    "num=input(\"enter the number:\")\n",
    "try:\n",
    "    val=int(num)\n",
    "    if num==str(num)[::-1]:\n",
    "        print(\"the given number is palindrome\")\n",
    "    else:\n",
    "        print(\"the given number is not a palindrome\")\n",
    "except ValueError:\n",
    "    print(\"That not a vaild number\")\n",
    "finally:\n",
    "    print(\"this block is always excuted\")\n",
    "\n"
   ]
  },
  {
   "cell_type": "code",
   "execution_count": 24,
   "metadata": {},
   "outputs": [
    {
     "name": "stdout",
     "output_type": "stream",
     "text": [
      "enter the number:2\n",
      "5\n"
     ]
    }
   ],
   "source": [
    "#5.Write a python function to find sum of squares of first n natural numbers.\n",
    "def firstnat(n):\n",
    "    sum=0\n",
    "    for i in range(1,n+1):\n",
    "        sum=sum+(i*i)\n",
    "    return sum\n",
    "a=int(input(\"enter the number:\"))\n",
    "print(firstnat(a))\n",
    "\n"
   ]
  },
  {
   "cell_type": "code",
   "execution_count": null,
   "metadata": {},
   "outputs": [],
   "source": []
  }
 ],
 "metadata": {
  "kernelspec": {
   "display_name": "Python 3",
   "language": "python",
   "name": "python3"
  },
  "language_info": {
   "codemirror_mode": {
    "name": "ipython",
    "version": 3
   },
   "file_extension": ".py",
   "mimetype": "text/x-python",
   "name": "python",
   "nbconvert_exporter": "python",
   "pygments_lexer": "ipython3",
   "version": "3.8.3"
  }
 },
 "nbformat": 4,
 "nbformat_minor": 4
}
