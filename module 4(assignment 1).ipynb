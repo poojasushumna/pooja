{
 "cells": [
  {
   "cell_type": "code",
   "execution_count": 1,
   "metadata": {},
   "outputs": [
    {
     "name": "stdout",
     "output_type": "stream",
     "text": [
      "enter the file name:file.txt\n",
      "hello world\n",
      "i'm pooja\n",
      "321810302002\n",
      "gitam blg\n"
     ]
    }
   ],
   "source": [
    "#1.read an entire text file.\n",
    "def read(a):\n",
    "        txt = open(a)\n",
    "        print(txt.read())\n",
    "a=input(\"enter the file name:\")\n",
    "read(a)\n"
   ]
  },
  {
   "cell_type": "code",
   "execution_count": 3,
   "metadata": {},
   "outputs": [
    {
     "name": "stdout",
     "output_type": "stream",
     "text": [
      "enter the file name:file.txt\n",
      "hello world\n",
      "i'm pooja\n"
     ]
    }
   ],
   "source": [
    "#2.Write a python program to read first n lines of a file.\n",
    "def readfirst(a, n):\n",
    "        from itertools import islice\n",
    "        with open(a) as f:\n",
    "                for l in islice(f,n):\n",
    "                        print(l,end ='')\n",
    "a=input(\"enter the file name:\")\n",
    "readfirst(a,2)\n"
   ]
  },
  {
   "cell_type": "code",
   "execution_count": 7,
   "metadata": {},
   "outputs": [
    {
     "name": "stdout",
     "output_type": "stream",
     "text": [
      "Python Exercises\n",
      "Java Exercises\n"
     ]
    }
   ],
   "source": [
    "#3.Write a Python program to append text to a file and display the text.\n",
    "def read(a):\n",
    "        from itertools import islice\n",
    "        with open(a,\"w\") as file:\n",
    "                file.write(\"Python Exercises\\n\")\n",
    "                file.write(\"Java Exercises\")\n",
    "        txt = open(a)\n",
    "        print(txt.read())\n",
    "read('gitam.txt')\n"
   ]
  },
  {
   "cell_type": "code",
   "execution_count": 8,
   "metadata": {},
   "outputs": [
    {
     "name": "stdout",
     "output_type": "stream",
     "text": [
      "enter the file name:file.txt\n",
      "no of last lines to read:2\n",
      "Last 2 lines from file: file.txt\n",
      "321810302002\n",
      "gitam blg"
     ]
    }
   ],
   "source": [
    "#4.Write a Python program to read last n lines of a file.\n",
    "def LastNLines(f,n):\n",
    "    with open(f) as file:\n",
    "        print('Last',n,\"lines from file:\" ,f)\n",
    "        for line in (file.readlines() [-n:]):\n",
    "            print(line, end='')\n",
    "name=input(\"enter the file name:\" )\n",
    "n= int(input(\"no of last lines to read:\"))\n",
    "try:\n",
    "    LastNLines(name,n)\n",
    "except:\n",
    "    print(\"file error....\")\n"
   ]
  },
  {
   "cell_type": "code",
   "execution_count": 9,
   "metadata": {},
   "outputs": [
    {
     "name": "stdout",
     "output_type": "stream",
     "text": [
      "enter the file name:file.txt\n",
      "['hello world\\n', \"i'm pooja\\n\", '321810302002\\n', 'gitam blg']\n"
     ]
    }
   ],
   "source": [
    "#5.Write a Python program to read a file line by line store it into a variable.\n",
    "def read(a):\n",
    "        with open (a) as file:\n",
    "                cse=file.readlines()\n",
    "                print(cse)\n",
    "a=input(\"enter the file name:\")\n",
    "read(a)\n"
   ]
  },
  {
   "cell_type": "code",
   "execution_count": 10,
   "metadata": {},
   "outputs": [
    {
     "name": "stdout",
     "output_type": "stream",
     "text": [
      "enter the file name:file.txt\n",
      "['hello world\\n', \"i'm pooja\\n\", '321810302002\\n', 'gitam blg']\n"
     ]
    }
   ],
   "source": [
    "#6.Write a Python program to read a file line by line and store it into a list.\n",
    "def read(a):\n",
    "        with open(a) as file:     \n",
    "                list = file.readlines()\n",
    "                print(list)\n",
    "a=input(\"enter the file name:\")\n",
    "read(a)\n"
   ]
  },
  {
   "cell_type": "code",
   "execution_count": 14,
   "metadata": {},
   "outputs": [
    {
     "name": "stdout",
     "output_type": "stream",
     "text": [
      "['hello world\\n', \"i'm pooja\\n\", '321810302002\\n', 'gitam blg']\n"
     ]
    }
   ],
   "source": [
    "#7.write a python program to read a file line by line and store it into array.\n",
    "def file_read(fname):\n",
    "    content_array=[]\n",
    "    with open(fname) as f:\n",
    "        for line in f:\n",
    "            content_array.append(line)\n",
    "        print(content_array)\n",
    "file_read(\"file.txt\")\n"
   ]
  },
  {
   "cell_type": "code",
   "execution_count": 15,
   "metadata": {},
   "outputs": [
    {
     "name": "stdout",
     "output_type": "stream",
     "text": [
      "Enter file name: file.txt\n",
      "Number of lines:\n",
      "4\n"
     ]
    }
   ],
   "source": [
    "#8.write a python program to count the number of lines in a text file.\n",
    "fname = input(\"Enter file name: \")\n",
    "num_lines = 0\n",
    "with open(fname, 'r') as f:\n",
    "    for line in f:\n",
    "        num_lines += 1\n",
    "print(\"Number of lines:\")\n",
    "print(num_lines)\n"
   ]
  },
  {
   "cell_type": "code",
   "execution_count": 22,
   "metadata": {},
   "outputs": [
    {
     "name": "stdout",
     "output_type": "stream",
     "text": [
      "file size in bytes of a plain file: 44\n"
     ]
    }
   ],
   "source": [
    "#9.write a python program to get the file size of a plain file.\n",
    "def file_size(fname):\n",
    "    import os\n",
    "    statinfo =os.stat(fname)\n",
    "    return statinfo.st_size\n",
    "print(\"file size in bytes of a plain file:\" ,file_size(\"file.txt\"))\n"
   ]
  },
  {
   "cell_type": "code",
   "execution_count": 9,
   "metadata": {},
   "outputs": [
    {
     "name": "stdout",
     "output_type": "stream",
     "text": [
      "hello world\n",
      "\n",
      "i'm pooja\n",
      "\n",
      "321810302002\n",
      "\n",
      "gitam blg\n"
     ]
    }
   ],
   "source": [
    "#10.write a python program to copy the contents of a file to another file.\n",
    "\n",
    "my_file1=open(\"file.txt\",\"r\")\n",
    "my_file2=open(\"pooja1.txt\",\"w\")\n",
    "for line in my_file1:\n",
    "    my_file2.write(line)\n",
    "    my_file3=open(\"files.txt\",\"r\")\n",
    "for line in my_file3:\n",
    "     print(line)\n",
    "my_file1.close()\n",
    "my_file2.close()\n",
    "my_file3.close()\n"
   ]
  },
  {
   "cell_type": "code",
   "execution_count": 10,
   "metadata": {},
   "outputs": [
    {
     "name": "stdout",
     "output_type": "stream",
     "text": [
      "sum of all elements in the list: 50\n"
     ]
    }
   ],
   "source": [
    "#11.python program to sum all the items in the list.\n",
    "total=0\n",
    "list=[1,5,7,9,8,20]\n",
    "for i in range(0,len(list)):\n",
    "    total=total+list[i]\n",
    "print(\"sum of all elements in the list:\",total)\n"
   ]
  },
  {
   "cell_type": "code",
   "execution_count": 11,
   "metadata": {},
   "outputs": [
    {
     "name": "stdout",
     "output_type": "stream",
     "text": [
      "24\n"
     ]
    }
   ],
   "source": [
    "#12.Python program to multiply all elements in the list\n",
    "def multiply(mylist):\n",
    "    result=1\n",
    "    for x in mylist:\n",
    "        result=result*x\n",
    "    return result\n",
    "list=[3,2,4]\n",
    "print(multiply(list))\n",
    "\n"
   ]
  },
  {
   "cell_type": "code",
   "execution_count": 13,
   "metadata": {},
   "outputs": [
    {
     "name": "stdout",
     "output_type": "stream",
     "text": [
      "the smallest number in the list is: 1\n",
      "the largest number in the list is: 100\n"
     ]
    }
   ],
   "source": [
    "#13.Python program to find largest and smallest number in the list.\n",
    "\n",
    "list=[1,78,90,12,100]\n",
    "print(\"the smallest number in the list is:\",min(list))\n",
    "print(\"the largest number in the list is:\",max(list))\n",
    "\n",
    "\n"
   ]
  },
  {
   "cell_type": "code",
   "execution_count": 22,
   "metadata": {},
   "outputs": [
    {
     "name": "stdout",
     "output_type": "stream",
     "text": [
      "Enter the number of elements in list:5\n",
      "Enter element1:1\n",
      "Enter element2:5\n",
      "Enter element3:4\n",
      "Enter element4:4\n",
      "Enter element5:7\n",
      "Non-duplicate items:\n",
      "[1, 5, 4, 7]\n"
     ]
    }
   ],
   "source": [
    "#14.python program to remove duplicates from a list.\n",
    "a=[]\n",
    "n= int(input(\"Enter the number of elements in list:\"))\n",
    "for x in range(0,n):\n",
    "    element=int(input(\"Enter element\" + str(x+1) + \":\"))\n",
    "    a.append(element)\n",
    "b = set()\n",
    "unique = []\n",
    "for x in a:\n",
    "    if x not in b:\n",
    "        unique.append(x)\n",
    "        b.add(x)\n",
    "print(\"Non-duplicate items:\")\n",
    "print(unique)\n"
   ]
  },
  {
   "cell_type": "code",
   "execution_count": 17,
   "metadata": {},
   "outputs": [
    {
     "name": "stdout",
     "output_type": "stream",
     "text": [
      "the list is not empty\n"
     ]
    }
   ],
   "source": [
    "#15.python program to check a list is empty or not.\n",
    "\n",
    "def check(list):\n",
    "    if len(list)== 0:\n",
    "        return 0\n",
    "    else:\n",
    "        return 1\n",
    "list=[1,2,3]\n",
    "if check(list):\n",
    "    print(\"the list is not empty\")\n",
    "else:\n",
    "    print(\"empty list\")\n"
   ]
  },
  {
   "cell_type": "code",
   "execution_count": 21,
   "metadata": {},
   "outputs": [
    {
     "name": "stdout",
     "output_type": "stream",
     "text": [
      "[10, 20, 30, 40]\n"
     ]
    }
   ],
   "source": [
    "#16.Python program to clone or copy a list.\n",
    "l1=[10,20,30,40]\n",
    "l2=[]\n",
    "for i in l1:\n",
    "    l2.append(i)\n",
    "print(l2)\n"
   ]
  },
  {
   "cell_type": "code",
   "execution_count": 24,
   "metadata": {},
   "outputs": [
    {
     "name": "stdout",
     "output_type": "stream",
     "text": [
      "['Green', 'White', 'Black']\n"
     ]
    }
   ],
   "source": [
    "#17.Write a Python program to print a specified list after removing the 0th,4th,5th elements.\n",
    "l= ['Red', 'Green', 'White', 'Black', 'Pink', 'Yellow']\n",
    "l= [x for (i,x) in enumerate(l) if i not in (0,4,5)]\n",
    "print(l)\n"
   ]
  },
  {
   "cell_type": "code",
   "execution_count": 25,
   "metadata": {},
   "outputs": [
    {
     "name": "stdout",
     "output_type": "stream",
     "text": [
      "[1, 3, 5, 7, 9]\n"
     ]
    }
   ],
   "source": [
    "#18.Write a python program to print the numbers of a specified list after removing even number form it.\n",
    "a = [0,1,2,3,4,5,6,7,8,9,10]\n",
    "a = [x for x in a if x%2!=0]\n",
    "print(a)\n"
   ]
  },
  {
   "cell_type": "code",
   "execution_count": 26,
   "metadata": {},
   "outputs": [
    {
     "name": "stdout",
     "output_type": "stream",
     "text": [
      "[45, 78, 99, 1, 3, 56]\n"
     ]
    }
   ],
   "source": [
    "#19.Write a Python program to shuffle and print a specified list.\n",
    "from random import shuffle\n",
    "a = [1,3,45,56,78,99]\n",
    "shuffle(a)\n",
    "print(a)\n"
   ]
  },
  {
   "cell_type": "code",
   "execution_count": 29,
   "metadata": {},
   "outputs": [
    {
     "name": "stdout",
     "output_type": "stream",
     "text": [
      "Difference between two lists: [9, 18, 27, 36, 45, 54, 63, 72, 81, 90]\n"
     ]
    }
   ],
   "source": [
    "#20.Write a Python program to get the difference between the two lists.\n",
    "l1=[10,20,30,40,50,60,70,80,90,100]\n",
    "l2=[1,2,3,4,5,6,7,8,9,10]\n",
    "l3=[]\n",
    "if len(l1)==len(l2):\n",
    "    i,j=0,0\n",
    "    while i<len(l1) and j<len(l2):\n",
    "        l3.append(l1[i]-l2[j])\n",
    "        i+=1\n",
    "        j+=1\n",
    "    print(\"Difference between two lists:\",l3)\n",
    "else:\n",
    "    print(\"No.of elements are different.Not able to do difference\")\n"
   ]
  },
  {
   "cell_type": "code",
   "execution_count": null,
   "metadata": {},
   "outputs": [],
   "source": []
  }
 ],
 "metadata": {
  "kernelspec": {
   "display_name": "Python 3",
   "language": "python",
   "name": "python3"
  },
  "language_info": {
   "codemirror_mode": {
    "name": "ipython",
    "version": 3
   },
   "file_extension": ".py",
   "mimetype": "text/x-python",
   "name": "python",
   "nbconvert_exporter": "python",
   "pygments_lexer": "ipython3",
   "version": "3.8.3"
  }
 },
 "nbformat": 4,
 "nbformat_minor": 4
}
