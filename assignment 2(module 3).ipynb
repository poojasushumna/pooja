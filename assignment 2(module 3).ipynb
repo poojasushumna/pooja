{
 "cells": [
  {
   "cell_type": "code",
   "execution_count": 1,
   "metadata": {},
   "outputs": [
    {
     "name": "stdout",
     "output_type": "stream",
     "text": [
      "Enter a string: pooja\n",
      "Length of the input string is: 5\n"
     ]
    }
   ],
   "source": [
    "#calculate len of string\n",
    "\n",
    "str = input(\"Enter a string: \")\n",
    "count = 0\n",
    "for s in str:\n",
    "      count = count+1\n",
    "print(\"Length of the input string is:\", count)"
   ]
  },
  {
   "cell_type": "code",
   "execution_count": 3,
   "metadata": {},
   "outputs": [
    {
     "name": "stdout",
     "output_type": "stream",
     "text": [
      "{'p': 1, 'o': 2, 'j': 1, 'a': 1}\n"
     ]
    }
   ],
   "source": [
    "#count the number of character in a string\n",
    "\n",
    "def char_frequency(str1):\n",
    "    dict = {}\n",
    "    for n in str1:\n",
    "        keys = dict.keys()\n",
    "        if n in keys:\n",
    "            dict[n] += 1\n",
    "        else:\n",
    "            dict[n] = 1\n",
    "    return dict\n",
    "print(char_frequency('pooja'))"
   ]
  },
  {
   "cell_type": "code",
   "execution_count": 10,
   "metadata": {},
   "outputs": [
    {
     "name": "stdout",
     "output_type": "stream",
     "text": [
      "suoja poshumna\n"
     ]
    }
   ],
   "source": [
    "#prgrm to get a single string from two given strings seperated by a space and swaping first two characters of each string\n",
    "\n",
    "def chars_mix_up(a, b):\n",
    "  new_a = b[:2] + a[2:]\n",
    "  new_b = a[:2] + b[2:]\n",
    "\n",
    "  return new_a + ' ' + new_b\n",
    "print(chars_mix_up('pooja','sushumna'))"
   ]
  },
  {
   "cell_type": "code",
   "execution_count": 11,
   "metadata": {},
   "outputs": [
    {
     "name": "stdout",
     "output_type": "stream",
     "text": [
      "Where are you from?:hindupur\n",
      "I'm from  HINDUPUR\n",
      "I'm from hindupur\n"
     ]
    }
   ],
   "source": [
    "#python script that takes input from user and displays that input back in upper and lower cases\n",
    "\n",
    "user_input = input(\"Where are you from?:\")\n",
    "print(\"I'm from \", user_input.upper())\n",
    "print(\"I'm from\", user_input.lower())"
   ]
  },
  {
   "cell_type": "code",
   "execution_count": 13,
   "metadata": {},
   "outputs": [
    {
     "name": "stdout",
     "output_type": "stream",
     "text": [
      "pooja\n",
      "\n",
      "pooja\n"
     ]
    }
   ],
   "source": [
    "# removing a newline in python\n",
    "\n",
    "str1='pooja\\n'\n",
    "print(str1)\n",
    "print(str1.rstrip())"
   ]
  },
  {
   "cell_type": "code",
   "execution_count": 14,
   "metadata": {},
   "outputs": [
    {
     "name": "stdout",
     "output_type": "stream",
     "text": [
      "\n",
      "1\n",
      "\n"
     ]
    }
   ],
   "source": [
    "# program to count occurences of a substring in a string\n",
    "\n",
    "str1='iam pooja'\n",
    "print()\n",
    "print(str1.count(\"pooja\"))\n",
    "print()"
   ]
  },
  {
   "cell_type": "code",
   "execution_count": 16,
   "metadata": {},
   "outputs": [
    {
     "name": "stdout",
     "output_type": "stream",
     "text": [
      "original string is:pooja\n",
      "string after removal of 'i'th character:p\n",
      "string after removal of 'i'th character:po\n",
      "string after removal of 'i'th character:poj\n",
      "string after removal of 'i'th character:poja\n"
     ]
    }
   ],
   "source": [
    "\n",
    "# converting a string in a list\n",
    "\n",
    "test_str=\"pooja\"\n",
    "print(\"original string is:\"+test_str)\n",
    "new_str=''\n",
    "for i in range(len(test_str)):\n",
    "    if i!=2:\n",
    "        new_str=new_str+test_str[i]\n",
    "        print(\"string after removal of 'i'th character:\"+new_str)"
   ]
  },
  {
   "cell_type": "code",
   "execution_count": 17,
   "metadata": {},
   "outputs": [
    {
     "name": "stdout",
     "output_type": "stream",
     "text": [
      "ooja\n"
     ]
    }
   ],
   "source": [
    "# perform deletion of a character\n",
    "\n",
    "s = 'pooja'\n",
    "\n",
    "print(s.replace('p', ''))"
   ]
  },
  {
   "cell_type": "code",
   "execution_count": 20,
   "metadata": {},
   "outputs": [
    {
     "name": "stdout",
     "output_type": "stream",
     "text": [
      "enter a stringpooja\n",
      "The Character at 0 Index Position = p\n",
      "The Character at 1 Index Position = o\n",
      "The Character at 2 Index Position = o\n",
      "The Character at 3 Index Position = j\n",
      "The Character at 4 Index Position = a\n"
     ]
    }
   ],
   "source": [
    "# program to print every character of a string entered by user in a newline using loop\n",
    "\n",
    "str1=input('enter a string')\n",
    "for i in range(len(str1)):\n",
    "    print(\"The Character at %d Index Position = %c\" %(i, str1[i]))"
   ]
  },
  {
   "cell_type": "code",
   "execution_count": 21,
   "metadata": {},
   "outputs": [
    {
     "name": "stdout",
     "output_type": "stream",
     "text": [
      "Length of the input string is: 12\n"
     ]
    }
   ],
   "source": [
    "\n",
    "# program to find length of refrigerator without using le function\n",
    "\n",
    "str = \"Refrigerator\"\n",
    "count = 0\n",
    "for s in str:\n",
    "      count = count+1\n",
    "print(\"Length of the input string is:\", count)"
   ]
  },
  {
   "cell_type": "code",
   "execution_count": null,
   "metadata": {},
   "outputs": [],
   "source": []
  }
 ],
 "metadata": {
  "kernelspec": {
   "display_name": "Python 3",
   "language": "python",
   "name": "python3"
  },
  "language_info": {
   "codemirror_mode": {
    "name": "ipython",
    "version": 3
   },
   "file_extension": ".py",
   "mimetype": "text/x-python",
   "name": "python",
   "nbconvert_exporter": "python",
   "pygments_lexer": "ipython3",
   "version": "3.8.3"
  }
 },
 "nbformat": 4,
 "nbformat_minor": 4
}
