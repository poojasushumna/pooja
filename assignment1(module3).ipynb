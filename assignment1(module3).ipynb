{
 "cells": [
  {
   "cell_type": "code",
   "execution_count": 6,
   "metadata": {},
   "outputs": [
    {
     "name": "stdout",
     "output_type": "stream",
     "text": [
      "1\n",
      "2\n",
      "18\n"
     ]
    }
   ],
   "source": [
    "#1.Convert Binary number to decimal \n",
    "\n",
    "def binary_to_decimal(binary):\n",
    "    i,integer = 0,0\n",
    "    size = len(binary)\n",
    "    while i < len(binary):\n",
    "        integer += int(binary[size - 1 - i])*pow(2,i)\n",
    "        i+=1\n",
    "    print(integer)\n",
    "binary_to_decimal(\"001\")\n",
    "binary_to_decimal(\"010\")\n",
    "binary_to_decimal(\"10010\")\n"
   ]
  },
  {
   "cell_type": "code",
   "execution_count": 8,
   "metadata": {},
   "outputs": [
    {
     "name": "stdout",
     "output_type": "stream",
     "text": [
      "enter the number5\n",
      "1  \n",
      "1  \n",
      "2  \n",
      "3  \n",
      "5  \n"
     ]
    }
   ],
   "source": [
    "#2.Generate first n number of fibonacci numbers.take n value from user.\n",
    "def Fibonacci(n): \n",
    "    f1=0\n",
    "    f2=1\n",
    "    if n<1: \n",
    "        print(\"Incorrect input\")  \n",
    "    for x in range(0, n): \n",
    "        print(f2,\" \") \n",
    "        next = f1 + f2 \n",
    "        f1 = f2 \n",
    "        f2 = next\n",
    "n=int(input(\"enter the number\"))\n",
    "Fibonacci(n)\n"
   ]
  },
  {
   "cell_type": "code",
   "execution_count": 9,
   "metadata": {},
   "outputs": [
    {
     "name": "stdout",
     "output_type": "stream",
     "text": [
      "enter the number6\n",
      "6 x 1 = 6\n",
      "6 x 2 = 12\n",
      "6 x 3 = 18\n",
      "6 x 4 = 24\n",
      "6 x 5 = 30\n",
      "6 x 6 = 36\n",
      "6 x 7 = 42\n",
      "6 x 8 = 48\n",
      "6 x 9 = 54\n",
      "6 x 10 = 60\n"
     ]
    }
   ],
   "source": [
    "#3.Display multpication table of K. Take K from the user.\n",
    "k=int(input(\"enter the number\"))\n",
    "for i in range(1, 11):\n",
    "   print(k, 'x', i, '=', k*i)\n"
   ]
  },
  {
   "cell_type": "code",
   "execution_count": 11,
   "metadata": {},
   "outputs": [
    {
     "name": "stdout",
     "output_type": "stream",
     "text": [
      "Input some integers to calculate their average. \n",
      "65\n",
      "23\n",
      "45\n",
      "87\n",
      "15\n",
      "34\n",
      "45\n",
      "55\n",
      "87\n",
      "43\n",
      "Average of the above numbers are:  49.9\n"
     ]
    }
   ],
   "source": [
    "#4.Take 10 integers the from keyboard using loop and print their avearge value on the screen.\n",
    "print(\"Input some integers to calculate their average. \")\n",
    "count = 0\n",
    "sum = 0\n",
    "for i in range(0,10):\n",
    "    number = int(input(\"\"))\n",
    "    sum = sum + number\n",
    "    count += 1\n",
    "if count == 0:\n",
    "    print(\"Input some numbers\")\n",
    "else:\n",
    "    print(\"Average of the above numbers are: \", sum / (count))\n",
    "\n",
    "\n"
   ]
  },
  {
   "cell_type": "code",
   "execution_count": 13,
   "metadata": {},
   "outputs": [
    {
     "name": "stdout",
     "output_type": "stream",
     "text": [
      "*\n",
      "**\n",
      "***\n",
      "****\n"
     ]
    }
   ],
   "source": [
    "#4.print the following pattern using loop.\n",
    "\n",
    "i=1\n",
    "while i<=4:\n",
    "    print(\"*\"*i)\n",
    "    i=i+1\n"
   ]
  },
  {
   "cell_type": "code",
   "execution_count": 15,
   "metadata": {},
   "outputs": [
    {
     "name": "stdout",
     "output_type": "stream",
     "text": [
      "enter the first number:40\n",
      "enter the second number:85\n",
      "GCD of 40 and 85 is 5\n"
     ]
    }
   ],
   "source": [
    "#5.Write a program to find greatest common divisor (GCD) or highest common factor (HCF) of given two numbers.\n",
    "def gcd(a,b): \n",
    "    if (b == 0): \n",
    "         return a \n",
    "    return gcd(b, a%b) \n",
    "a = int(input(\"enter the first number:\"))\n",
    "b = int(input(\"enter the second number:\"))\n",
    "if(gcd(a, b)): \n",
    "    print('GCD of', a, 'and', b, 'is', gcd(a, b)) \n",
    "else: \n",
    "    print('not found')\n"
   ]
  },
  {
   "cell_type": "code",
   "execution_count": 16,
   "metadata": {},
   "outputs": [
    {
     "name": "stdout",
     "output_type": "stream",
     "text": [
      "enter the string:pooja\n",
      "the original string is:\n",
      "pooja\n",
      "the  reverse string is:\n",
      "ajoop\n"
     ]
    }
   ],
   "source": [
    "#6. write a python program to reverse a string.\n",
    "def reverse(s):\n",
    "    if len(s)==0:\n",
    "        return s\n",
    "    else:\n",
    "        return reverse(s[1:])+s[0]\n",
    "s=input(\"enter the string:\")\n",
    "print(\"the original string is:\")\n",
    "print(s)\n",
    "print(\"the  reverse string is:\")\n",
    "print(reverse(s))\n"
   ]
  },
  {
   "cell_type": "code",
   "execution_count": 33,
   "metadata": {},
   "outputs": [
    {
     "name": "stdout",
     "output_type": "stream",
     "text": [
      "Even numbers in the list:  0\n",
      "Odd numbers in the list:  1\n",
      "Even numbers in the list:  0\n",
      "Odd numbers in the list:  2\n",
      "Even numbers in the list:  1\n",
      "Odd numbers in the list:  2\n",
      "Even numbers in the list:  2\n",
      "Odd numbers in the list:  2\n",
      "Even numbers in the list:  2\n",
      "Odd numbers in the list:  3\n",
      "Even numbers in the list:  3\n",
      "Odd numbers in the list:  3\n"
     ]
    }
   ],
   "source": [
    "#7.Write a Python program to count the number of even and odd numbers from a series of numbers.\n",
    "list1 = [21,23,24,12,13,18] \n",
    "even, odd = 0, 0\n",
    "for num in list1: \n",
    "        if num % 2 == 0: \n",
    "            even += 1\n",
    "        else: \n",
    "            odd += 1\n",
    "        print(\"Even numbers in the list: \", even) \n",
    "        print(\"Odd numbers in the list: \", odd)\n"
   ]
  },
  {
   "cell_type": "code",
   "execution_count": 38,
   "metadata": {},
   "outputs": [
    {
     "name": "stdout",
     "output_type": "stream",
     "text": [
      "0\n",
      "1\n",
      "2\n",
      "4\n",
      "5\n"
     ]
    }
   ],
   "source": [
    "#8.Write a Python program that prints all the numbers from 0 to 6 except 3 and 6.\n",
    "for i in range(0,7):\n",
    "    if(i==3 or i==6):\n",
    "        continue\n",
    "    print(i)\n"
   ]
  },
  {
   "cell_type": "code",
   "execution_count": null,
   "metadata": {},
   "outputs": [],
   "source": []
  }
 ],
 "metadata": {
  "kernelspec": {
   "display_name": "Python 3",
   "language": "python",
   "name": "python3"
  },
  "language_info": {
   "codemirror_mode": {
    "name": "ipython",
    "version": 3
   },
   "file_extension": ".py",
   "mimetype": "text/x-python",
   "name": "python",
   "nbconvert_exporter": "python",
   "pygments_lexer": "ipython3",
   "version": "3.8.3"
  }
 },
 "nbformat": 4,
 "nbformat_minor": 4
}
