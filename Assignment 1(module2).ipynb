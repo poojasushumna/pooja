{
 "cells": [
  {
   "cell_type": "code",
   "execution_count": 9,
   "metadata": {},
   "outputs": [
    {
     "name": "stdout",
     "output_type": "stream",
     "text": [
      "enter the value of a4\n",
      "enter the value of b4\n",
      "both are equal\n"
     ]
    }
   ],
   "source": [
    "#1.Take two inputs and check whether they are equal or not\n",
    "a=input('enter the value of a')\n",
    "b=input('enter the value of b')\n",
    "if(a==b):\n",
    "    print('both are equal')\n",
    "else:\n",
    "   print('both are not equal')"
   ]
  },
  {
   "cell_type": "code",
   "execution_count": 2,
   "metadata": {},
   "outputs": [
    {
     "name": "stdout",
     "output_type": "stream",
     "text": [
      "enter the value of a4\n",
      "enter the value of b5\n",
      "enter the value of c5\n",
      "all are equal False\n",
      "any of the two are equal True\n"
     ]
    }
   ],
   "source": [
    "#2.Take 3 inputs from user and check:all are equal ,any of two are not equal(use or or)\n",
    "\n",
    "a=int(input('enter the value of a'))\n",
    "b=int(input('enter the value of b'))\n",
    "c=int(input('enter the value of c'))\n",
    "all=(a==b)and(b==c)and(c==a)\n",
    "print('all are equal',all)\n",
    "any=(a==b)or(b==c)or(c==a)\n",
    "print('any of the two are equal',any)\n",
    "\n"
   ]
  },
  {
   "cell_type": "code",
   "execution_count": 12,
   "metadata": {},
   "outputs": [
    {
     "name": "stdout",
     "output_type": "stream",
     "text": [
      "enter the value of a:3\n",
      "enter the value of b:2\n",
      "sum is equal to 5\n"
     ]
    }
   ],
   "source": [
    "#3.Check whether the sum is greater than 5,less than 5 or equal to 5\n",
    "a=int(input('enter the value of a:'))\n",
    "b=int(input('enter the value of b:'))\n",
    "sum=a+b\n",
    "if(sum>5):\n",
    "  print('sum is greater then 5')\n",
    "elif(sum<5):\n",
    "    print('sum is less than 5')\n",
    "else:\n",
    "    print('sum is equal to 5')"
   ]
  },
  {
   "cell_type": "code",
   "execution_count": 11,
   "metadata": {},
   "outputs": [
    {
     "name": "stdout",
     "output_type": "stream",
     "text": [
      "enter the value of b4\n",
      "enter the value of a1\n",
      "Sum is greater than 5: False\n",
      "Sum is equal to 5: True\n",
      "Sum is lesser than 5: False\n"
     ]
    }
   ],
   "source": [
    "\n",
    "a=int(input(\"enter the value of b\"))\n",
    "b=int(input(\"enter the value of a\"))\n",
    "sum = a+b\n",
    "print (\"Sum is greater than 5:\",sum>5)\n",
    "print (\"Sum is equal to 5:\",sum==5)\n",
    "print (\"Sum is lesser than 5:\",sum<5)\n"
   ]
  },
  {
   "cell_type": "code",
   "execution_count": 15,
   "metadata": {},
   "outputs": [
    {
     "name": "stdout",
     "output_type": "stream",
     "text": [
      "enter the marks5\n",
      "Marks is greater than passing marks: False\n"
     ]
    }
   ],
   "source": [
    "#4.check whether it is greatest than passing marks or not.\n",
    "pm = 35\n",
    "marks = int(input(\"enter the marks\"))\n",
    "print (\"Marks is greater than passing marks:\", marks>pm)\n"
   ]
  },
  {
   "cell_type": "code",
   "execution_count": 8,
   "metadata": {},
   "outputs": [
    {
     "name": "stdout",
     "output_type": "stream",
     "text": [
      "14\n"
     ]
    }
   ],
   "source": [
    "#5.Write a Python function to find the max of three numbers.\n",
    "\n",
    "def maximum(a, b, c): \n",
    "  \n",
    "    if (a >= b) and (a >= c): \n",
    "        largest = a \n",
    "  \n",
    "    elif (b >= a) and (b >= c):\n",
    "        largest = b \n",
    "    else: \n",
    "        largest = c \n",
    "          \n",
    "    return largest \n",
    "  \n",
    "  \n",
    "  \n",
    "    a = 10\n",
    "    b = 14\n",
    "    c = 12\n",
    "print(maximum(a, b, c)) \n",
    "\n"
   ]
  },
  {
   "cell_type": "code",
   "execution_count": null,
   "metadata": {},
   "outputs": [],
   "source": []
  },
  {
   "cell_type": "code",
   "execution_count": null,
   "metadata": {},
   "outputs": [],
   "source": []
  }
 ],
 "metadata": {
  "kernelspec": {
   "display_name": "Python 3",
   "language": "python",
   "name": "python3"
  },
  "language_info": {
   "codemirror_mode": {
    "name": "ipython",
    "version": 3
   },
   "file_extension": ".py",
   "mimetype": "text/x-python",
   "name": "python",
   "nbconvert_exporter": "python",
   "pygments_lexer": "ipython3",
   "version": "3.8.3"
  }
 },
 "nbformat": 4,
 "nbformat_minor": 4
}
