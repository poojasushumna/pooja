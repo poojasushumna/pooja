{
 "cells": [
  {
   "cell_type": "code",
   "execution_count": 1,
   "metadata": {},
   "outputs": [
    {
     "name": "stdout",
     "output_type": "stream",
     "text": [
      "Enter the radius of the circle: 4\n",
      "50.26548245743669\n"
     ]
    }
   ],
   "source": [
    "#1.Write a Python program to find area of a circle using math function.\n",
    "import math\n",
    "r = float(input(\"Enter the radius of the circle: \"))\n",
    "area = math.pi* r * r\n",
    "print(area)\n"
   ]
  },
  {
   "cell_type": "code",
   "execution_count": 3,
   "metadata": {},
   "outputs": [
    {
     "name": "stdout",
     "output_type": "stream",
     "text": [
      "Input number of sides: 3\n",
      "Input the length of a side: 4\n",
      "The area of the polygon is:  6.928203230275511\n"
     ]
    }
   ],
   "source": [
    "#2.Write a program to find Area of Regular Polygon using math function.\n",
    "from math import tan,pi\n",
    "n = int(input(\"Input number of sides: \"))\n",
    "length = float(input(\"Input the length of a side: \"))\n",
    "area = n * (length**2) / (4 * tan(pi / n))\n",
    "print(\"The area of the polygon is: \",area)\n",
    "\n"
   ]
  },
  {
   "cell_type": "code",
   "execution_count": 4,
   "metadata": {},
   "outputs": [
    {
     "name": "stdout",
     "output_type": "stream",
     "text": [
      "enter the radius4\n",
      "enter the angle6\n",
      "area of minor segment= 0.0015303348160504715\n",
      "area of major segment= 50.26395212262064\n"
     ]
    }
   ],
   "source": [
    "#3.Write a program to find Area of a Segment of a Circle Formula using math function.\n",
    "import math\n",
    "def segmentarea(r,angle):\n",
    "    areaofsector = pi * (r * r) * (angle / 360) \n",
    "    areaoftriangle = 1 / 2 *(r * r) *math.sin((angle * pi) / 180) \n",
    "  \n",
    "    return areaofsector - areaoftriangle; \n",
    "r=int(input(\"enter the radius\"))\n",
    "angle=int(input(\"enter the angle\"))\n",
    "print(\"area of minor segment=\",segmentarea(r,angle))\n",
    "print(\"area of major segment=\",segmentarea(r,(360-angle)))\n"
   ]
  },
  {
   "cell_type": "code",
   "execution_count": 6,
   "metadata": {},
   "outputs": [
    {
     "name": "stdout",
     "output_type": "stream",
     "text": [
      "['hello', 30, 1, 40, 'hai', 2, 100, 3]\n"
     ]
    }
   ],
   "source": [
    "#4.Write a python program to shuffle list l1=[100,1,2,3,30,40,”hai”,”hello”].\n",
    "from random import shuffle\n",
    "l1 = [100,1,2,3,30,40,\"hai\",\"hello\"]\n",
    "shuffle(l1)\n",
    "print(l1)\n"
   ]
  },
  {
   "cell_type": "code",
   "execution_count": 11,
   "metadata": {},
   "outputs": [
    {
     "name": "stdout",
     "output_type": "stream",
     "text": [
      "18\n",
      "68\n",
      "118\n",
      "168\n",
      "218\n",
      "268\n",
      "318\n",
      "368\n",
      "418\n",
      "468\n",
      "518\n",
      "568\n",
      "618\n",
      "668\n",
      "718\n",
      "768\n",
      "818\n",
      "868\n",
      "918\n",
      "968\n",
      "1018\n"
     ]
    }
   ],
   "source": [
    "#5.Write a program to generate random numbers between 1,10000 and difference between each random number is 50.\n",
    "import random\n",
    "n = random.randint(1,1000)\n",
    "print(n)\n",
    "while(n<1000):\n",
    "    n=n+50\n",
    "    print(n)\n"
   ]
  },
  {
   "cell_type": "code",
   "execution_count": 27,
   "metadata": {},
   "outputs": [
    {
     "name": "stdout",
     "output_type": "stream",
     "text": [
      "-0.3048106211022167\n"
     ]
    }
   ],
   "source": [
    "\n",
    "#6.Write a python program by using math module to find\n",
    "#a.sin 60\n",
    "import math\n",
    "sine=math.sin(60)\n",
    "print(sine)\n"
   ]
  },
  {
   "cell_type": "code",
   "execution_count": 25,
   "metadata": {},
   "outputs": [
    {
     "name": "stdout",
     "output_type": "stream",
     "text": [
      "-1.0\n"
     ]
    }
   ],
   "source": [
    "#b.cos(pi)\n",
    "import math\n",
    "co=math.cos(pi)\n",
    "print(co)"
   ]
  },
  {
   "cell_type": "code",
   "execution_count": 28,
   "metadata": {},
   "outputs": [
    {
     "name": "stdout",
     "output_type": "stream",
     "text": [
      "-1.995200412208242\n"
     ]
    }
   ],
   "source": [
    "#c.tan(90)\n",
    "import math\n",
    "ta=math.tan(90)\n",
    "print(ta)\n",
    "\n"
   ]
  },
  {
   "cell_type": "code",
   "execution_count": 18,
   "metadata": {},
   "outputs": [
    {
     "name": "stdout",
     "output_type": "stream",
     "text": [
      "0.7617599814162892\n"
     ]
    }
   ],
   "source": [
    "#d.angle of sin(0.8660254037844386)\n",
    "import math\n",
    "print(math.sin((0.86602540378443860009)))"
   ]
  },
  {
   "cell_type": "code",
   "execution_count": 19,
   "metadata": {},
   "outputs": [
    {
     "name": "stdout",
     "output_type": "stream",
     "text": [
      "390625\n"
     ]
    }
   ],
   "source": [
    "#e.5^8\n",
    "print(5**8)"
   ]
  },
  {
   "cell_type": "code",
   "execution_count": 20,
   "metadata": {},
   "outputs": [
    {
     "name": "stdout",
     "output_type": "stream",
     "text": [
      "20.0\n"
     ]
    }
   ],
   "source": [
    "#f.Square root of 400\n",
    "print(400**0.5)"
   ]
  },
  {
   "cell_type": "code",
   "execution_count": 21,
   "metadata": {},
   "outputs": [
    {
     "name": "stdout",
     "output_type": "stream",
     "text": [
      "13.591409142295225\n"
     ]
    }
   ],
   "source": [
    "#g.The value of 5^e\n",
    "import math\n",
    "print(5*(math.e))"
   ]
  },
  {
   "cell_type": "code",
   "execution_count": 22,
   "metadata": {},
   "outputs": [
    {
     "name": "stdout",
     "output_type": "stream",
     "text": [
      "10.0\n"
     ]
    }
   ],
   "source": [
    "#h.The value of Log(1024), base 2\n",
    "import math\n",
    "print(math.log2(1024))"
   ]
  },
  {
   "cell_type": "code",
   "execution_count": 23,
   "metadata": {},
   "outputs": [
    {
     "name": "stdout",
     "output_type": "stream",
     "text": [
      "3.010299956639812\n"
     ]
    }
   ],
   "source": [
    "#i.The value of Log(1024), base 10\n",
    "import math\n",
    "print(math.log10(1024))"
   ]
  },
  {
   "cell_type": "code",
   "execution_count": 24,
   "metadata": {},
   "outputs": [
    {
     "name": "stdout",
     "output_type": "stream",
     "text": [
      "23\n",
      "24\n"
     ]
    }
   ],
   "source": [
    "#j.The Floor and Ceiling value of 23.56\n",
    "import math\n",
    "print(math.floor(23.56))\n",
    "print(math.ceil(23.56))"
   ]
  },
  {
   "cell_type": "code",
   "execution_count": null,
   "metadata": {},
   "outputs": [],
   "source": []
  }
 ],
 "metadata": {
  "kernelspec": {
   "display_name": "Python 3",
   "language": "python",
   "name": "python3"
  },
  "language_info": {
   "codemirror_mode": {
    "name": "ipython",
    "version": 3
   },
   "file_extension": ".py",
   "mimetype": "text/x-python",
   "name": "python",
   "nbconvert_exporter": "python",
   "pygments_lexer": "ipython3",
   "version": "3.8.3"
  }
 },
 "nbformat": 4,
 "nbformat_minor": 4
}
